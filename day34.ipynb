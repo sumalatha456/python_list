{
 "cells": [
  {
   "cell_type": "markdown",
   "metadata": {},
   "source": []
  },
  {
   "cell_type": "markdown",
   "metadata": {},
   "source": [
    "Coding Question on Bag of Words TF-IDF Word Embeddings\n",
    "Write a Python program to convert a given text into a Bag of Words (BoW) representation using `CountVectorizer` from `sklearn.feature_extraction.text`. \n",
    "Also, compute the TF-IDF representation using `TfidfVectorizer`.\n",
    "Example input:\n",
    "    [\"I love machine learning\", \"Machine learning is fun\", \"Deep learning is amazing\"]\n",
    "\n",
    "\n"
   ]
  },
  {
   "cell_type": "markdown",
   "metadata": {},
   "source": []
  },
  {
   "cell_type": "code",
   "execution_count": 1,
   "metadata": {},
   "outputs": [
    {
     "name": "stdout",
     "output_type": "stream",
     "text": [
      "Bag of Words (BoW) Representation:\n",
      "[[0 0 0 0 1 1 1]\n",
      " [0 0 1 1 1 0 1]\n",
      " [1 1 0 1 1 0 0]]\n",
      "Feature Names: ['amazing' 'deep' 'fun' 'is' 'learning' 'love' 'machine']\n",
      "\n",
      "TF-IDF Representation:\n",
      "[[0.         0.         0.         0.         0.42544054 0.72033345\n",
      "  0.54783215]\n",
      " [0.         0.         0.63174505 0.4804584  0.37311881 0.\n",
      "  0.4804584 ]\n",
      " [0.5844829  0.5844829  0.         0.44451431 0.34520502 0.\n",
      "  0.        ]]\n",
      "Feature Names: ['amazing' 'deep' 'fun' 'is' 'learning' 'love' 'machine']\n"
     ]
    }
   ],
   "source": [
    "from sklearn.feature_extraction.text import CountVectorizer, TfidfVectorizer\n",
    "\n",
    "# Sample input text\n",
    "corpus = [\n",
    "    \"I love machine learning\",\n",
    "    \"Machine learning is fun\",\n",
    "    \"Deep learning is amazing\"\n",
    "]\n",
    "\n",
    "# Bag of Words (BoW) representation\n",
    "count_vectorizer = CountVectorizer()\n",
    "bow_matrix = count_vectorizer.fit_transform(corpus)\n",
    "\n",
    "print(\"Bag of Words (BoW) Representation:\")\n",
    "print(bow_matrix.toarray())\n",
    "print(\"Feature Names:\", count_vectorizer.get_feature_names_out())\n",
    "\n",
    "# TF-IDF representation\n",
    "tfidf_vectorizer = TfidfVectorizer()\n",
    "tfidf_matrix = tfidf_vectorizer.fit_transform(corpus)\n",
    "\n",
    "print(\"\\nTF-IDF Representation:\")\n",
    "print(tfidf_matrix.toarray())\n",
    "print(\"Feature Names:\", tfidf_vectorizer.get_feature_names_out())\n"
   ]
  },
  {
   "cell_type": "code",
   "execution_count": null,
   "metadata": {},
   "outputs": [],
   "source": []
  }
 ],
 "metadata": {
  "kernelspec": {
   "display_name": "base",
   "language": "python",
   "name": "python3"
  },
  "language_info": {
   "codemirror_mode": {
    "name": "ipython",
    "version": 3
   },
   "file_extension": ".py",
   "mimetype": "text/x-python",
   "name": "python",
   "nbconvert_exporter": "python",
   "pygments_lexer": "ipython3",
   "version": "3.12.7"
  }
 },
 "nbformat": 4,
 "nbformat_minor": 2
}
