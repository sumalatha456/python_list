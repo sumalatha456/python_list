{
 "cells": [
  {
   "cell_type": "code",
   "execution_count": 1,
   "metadata": {},
   "outputs": [
    {
     "name": "stdout",
     "output_type": "stream",
     "text": [
      "Integer value: 10 - Type: <class 'int'>\n",
      "Float value: 3.14 - Type: <class 'float'>\n",
      "String value: Hello, World! - Type: <class 'str'>\n",
      "Boolean value: True - Type: <class 'bool'>\n"
     ]
    }
   ],
   "source": [
    "# Declaring variables of different data types\n",
    "integer_var = 10\n",
    "float_var = 3.14\n",
    "string_var = \"Hello, World!\"\n",
    "boolean_var = True\n",
    "\n",
    "# Printing each variable and its type\n",
    "print(\"Integer value:\", integer_var, \"- Type:\", type(integer_var))\n",
    "print(\"Float value:\", float_var, \"- Type:\", type(float_var))\n",
    "print(\"String value:\", string_var, \"- Type:\", type(string_var))\n",
    "print(\"Boolean value:\", boolean_var, \"- Type:\", type(boolean_var))\n"
   ]
  }
 ],
 "metadata": {
  "kernelspec": {
   "display_name": "base",
   "language": "python",
   "name": "python3"
  },
  "language_info": {
   "codemirror_mode": {
    "name": "ipython",
    "version": 3
   },
   "file_extension": ".py",
   "mimetype": "text/x-python",
   "name": "python",
   "nbconvert_exporter": "python",
   "pygments_lexer": "ipython3",
   "version": "3.12.7"
  }
 },
 "nbformat": 4,
 "nbformat_minor": 2
}
