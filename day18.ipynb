{
 "cells": [
  {
   "cell_type": "markdown",
   "metadata": {},
   "source": [
    "Exercises on Web Scraping - Coding Assignment\n",
    "Write a Python script to fetch and print the title of a webpage using the 'requests' and 'BeautifulSoup' libraries. Test it with the URL: 'https://example.com'.\n"
   ]
  },
  {
   "cell_type": "code",
   "execution_count": 3,
   "metadata": {},
   "outputs": [
    {
     "name": "stdout",
     "output_type": "stream",
     "text": [
      "Title of the page: Example Domain\n"
     ]
    }
   ],
   "source": [
    "import requests\n",
    "from bs4 import BeautifulSoup\n",
    "\n",
    "def fetch_page_title(url):\n",
    "    # Send an HTTP GET request to the provided URL\n",
    "    response = requests.get(url)\n",
    "    \n",
    "    # Check if the request was successful (status code 200)\n",
    "    if response.status_code == 200:\n",
    "        # Parse the HTML content using BeautifulSoup\n",
    "        soup = BeautifulSoup(response.content, 'html.parser')\n",
    "        \n",
    "        # Extract the title tag and its text\n",
    "        title = soup.title.string\n",
    "        \n",
    "        return title\n",
    "    else:\n",
    "        return None\n",
    "\n",
    "# Test the function with the provided URL\n",
    "test_url = 'https://example.com'\n",
    "page_title = fetch_page_title(test_url)\n",
    "\n",
    "if page_title:\n",
    "    print(f'Title of the page: {page_title}')\n",
    "else:\n",
    "    print('Failed to fetch the page title')\n"
   ]
  }
 ],
 "metadata": {
  "kernelspec": {
   "display_name": "base",
   "language": "python",
   "name": "python3"
  },
  "language_info": {
   "codemirror_mode": {
    "name": "ipython",
    "version": 3
   },
   "file_extension": ".py",
   "mimetype": "text/x-python",
   "name": "python",
   "nbconvert_exporter": "python",
   "pygments_lexer": "ipython3",
   "version": "3.12.7"
  }
 },
 "nbformat": 4,
 "nbformat_minor": 2
}
