{
 "cells": [
  {
   "cell_type": "markdown",
   "metadata": {},
   "source": [
    "Write a Python program to perform text classification using a Naïve Bayes classifier (`MultinomialNB`) from `sklearn.naive_bayes`. \n",
    "Train the model using sample text data and predict the category of a given new text.\n",
    "Example input:\n",
    "    [\"I love programming\", \"Python is great\", \"Machine learning is amazing\"]\n",
    "\n",
    "\n"
   ]
  },
  {
   "cell_type": "markdown",
   "metadata": {},
   "source": [
    "\n"
   ]
  },
  {
   "cell_type": "code",
   "execution_count": 1,
   "metadata": {},
   "outputs": [
    {
     "name": "stdout",
     "output_type": "stream",
     "text": [
      "The predicted category for 'I love machine learning' is: Positive\n"
     ]
    }
   ],
   "source": [
    "from sklearn.feature_extraction.text import CountVectorizer\n",
    "from sklearn.naive_bayes import MultinomialNB\n",
    "\n",
    "# Sample input text and their corresponding categories\n",
    "corpus = [\n",
    "    \"I love programming\",\n",
    "    \"Python is great\",\n",
    "    \"Machine learning is amazing\"\n",
    "]\n",
    "categories = [\"Positive\", \"Positive\", \"Positive\"]\n",
    "\n",
    "# Bag of Words (BoW) representation\n",
    "count_vectorizer = CountVectorizer()\n",
    "X_train = count_vectorizer.fit_transform(corpus)\n",
    "\n",
    "# Create and train the Naïve Bayes classifier\n",
    "classifier = MultinomialNB()\n",
    "classifier.fit(X_train, categories)\n",
    "\n",
    "# Function to predict the category of a new text\n",
    "def predict_category(text):\n",
    "    X_new = count_vectorizer.transform([text])\n",
    "    prediction = classifier.predict(X_new)\n",
    "    return prediction[0]\n",
    "\n",
    "# Example usage\n",
    "new_text = \"I love machine learning\"\n",
    "predicted_category = predict_category(new_text)\n",
    "print(f\"The predicted category for '{new_text}' is: {predicted_category}\")\n"
   ]
  },
  {
   "cell_type": "code",
   "execution_count": null,
   "metadata": {},
   "outputs": [],
   "source": []
  }
 ],
 "metadata": {
  "kernelspec": {
   "display_name": "base",
   "language": "python",
   "name": "python3"
  },
  "language_info": {
   "codemirror_mode": {
    "name": "ipython",
    "version": 3
   },
   "file_extension": ".py",
   "mimetype": "text/x-python",
   "name": "python",
   "nbconvert_exporter": "python",
   "pygments_lexer": "ipython3",
   "version": "3.12.7"
  }
 },
 "nbformat": 4,
 "nbformat_minor": 2
}
