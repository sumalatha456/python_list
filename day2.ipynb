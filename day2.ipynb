{
 "cells": [
  {
   "cell_type": "code",
   "execution_count": 1,
   "metadata": {},
   "outputs": [
    {
     "name": "stdout",
     "output_type": "stream",
     "text": [
      "First element (index 0): 10\n",
      "Second element (index 1): 20\n",
      "Last element (index -1): 50\n"
     ]
    }
   ],
   "source": [
    "# Creating a list with 5 elements\n",
    "my_list = [10, 20, 30, 40, 50]\n",
    "\n",
    "# Accessing elements by index\n",
    "print(\"First element (index 0):\", my_list[0])\n",
    "print(\"Second element (index 1):\", my_list[1])\n",
    "print(\"Last element (index -1):\", my_list[-1])\n",
    "\n"
   ]
  },
  {
   "cell_type": "code",
   "execution_count": 2,
   "metadata": {},
   "outputs": [
    {
     "name": "stdout",
     "output_type": "stream",
     "text": [
      "First element (index 0): 10\n",
      "Second element (index 1): 20\n",
      "Last element (index -1): 50\n"
     ]
    }
   ],
   "source": [
    "# Creating a tuple with 5 elements\n",
    "my_tuple = (10, 20, 30, 40, 50)\n",
    "\n",
    "# Accessing elements by index\n",
    "print(\"First element (index 0):\", my_tuple[0])\n",
    "print(\"Second element (index 1):\", my_tuple[1])\n",
    "print(\"Last element (index -1):\", my_tuple[-1])\n"
   ]
  },
  {
   "cell_type": "code",
   "execution_count": 4,
   "metadata": {},
   "outputs": [
    {
     "name": "stdout",
     "output_type": "stream",
     "text": [
      "Value for key 'a': 10\n",
      "Value for key 'b': 20\n",
      "Value for key 'e': 50\n"
     ]
    }
   ],
   "source": [
    "# Creating a dictionary with 5 key-value pairs\n",
    "my_dict = {\n",
    "    'a': 10,\n",
    "    'b': 20,\n",
    "    'c': 30,\n",
    "    'd': 40,\n",
    "    'e': 50\n",
    "}\n",
    "\n",
    "# Accessing elements by key\n",
    "print(\"Value for key 'a':\", my_dict['a'])\n",
    "print(\"Value for key 'b':\", my_dict['b'])\n",
    "print(\"Value for key 'e':\", my_dict['e'])\n"
   ]
  }
 ],
 "metadata": {
  "kernelspec": {
   "display_name": "base",
   "language": "python",
   "name": "python3"
  },
  "language_info": {
   "codemirror_mode": {
    "name": "ipython",
    "version": 3
   },
   "file_extension": ".py",
   "mimetype": "text/x-python",
   "name": "python",
   "nbconvert_exporter": "python",
   "pygments_lexer": "ipython3",
   "version": "3.12.7"
  }
 },
 "nbformat": 4,
 "nbformat_minor": 2
}
