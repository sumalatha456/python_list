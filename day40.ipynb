{
 "cells": [
  {
   "cell_type": "markdown",
   "metadata": {},
   "source": [
    "Write a Python program to classify text using an ensemble model (`RandomForestClassifier`) from `sklearn.ensemble`. \n",
    "Use `TfidfVectorizer` to convert text into numerical format.\n",
    "Example input:\n",
    "    [\"Buy now and win a prize\", \"Normal email content\", \"Congratulations, you won!\"]\n",
    "\n",
    "\n"
   ]
  },
  {
   "cell_type": "markdown",
   "metadata": {},
   "source": []
  },
  {
   "cell_type": "code",
   "execution_count": 1,
   "metadata": {},
   "outputs": [
    {
     "name": "stdout",
     "output_type": "stream",
     "text": [
      "The predicted category for 'Claim your free prize now' is: Spam\n"
     ]
    }
   ],
   "source": [
    "from sklearn.feature_extraction.text import TfidfVectorizer\n",
    "from sklearn.ensemble import RandomForestClassifier\n",
    "\n",
    "# Sample input text and their corresponding categories\n",
    "corpus = [\n",
    "    \"Buy now and win a prize\",\n",
    "    \"Normal email content\",\n",
    "    \"Congratulations, you won!\"\n",
    "]\n",
    "categories = [\"Spam\", \"Ham\", \"Spam\"]\n",
    "\n",
    "# TF-IDF representation\n",
    "tfidf_vectorizer = TfidfVectorizer()\n",
    "X_train = tfidf_vectorizer.fit_transform(corpus)\n",
    "\n",
    "# Create and train the Random Forest classifier\n",
    "classifier = RandomForestClassifier()\n",
    "classifier.fit(X_train, categories)\n",
    "\n",
    "# Function to predict the category of a new text\n",
    "def predict_category(text):\n",
    "    X_new = tfidf_vectorizer.transform([text])\n",
    "    prediction = classifier.predict(X_new)\n",
    "    return prediction[0]\n",
    "\n",
    "# Example usage\n",
    "new_text = \"Claim your free prize now\"\n",
    "predicted_category = predict_category(new_text)\n",
    "print(f\"The predicted category for '{new_text}' is: {predicted_category}\")\n"
   ]
  },
  {
   "cell_type": "code",
   "execution_count": null,
   "metadata": {},
   "outputs": [],
   "source": []
  }
 ],
 "metadata": {
  "kernelspec": {
   "display_name": "base",
   "language": "python",
   "name": "python3"
  },
  "language_info": {
   "codemirror_mode": {
    "name": "ipython",
    "version": 3
   },
   "file_extension": ".py",
   "mimetype": "text/x-python",
   "name": "python",
   "nbconvert_exporter": "python",
   "pygments_lexer": "ipython3",
   "version": "3.12.7"
  }
 },
 "nbformat": 4,
 "nbformat_minor": 2
}
