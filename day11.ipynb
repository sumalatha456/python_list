{
 "cells": [
  {
   "cell_type": "markdown",
   "metadata": {},
   "source": [
    "Exercises on Web Scraping - Coding Assignment\n",
    "Write a Python script to fetch and print the title of a webpage using the 'requests' and 'BeautifulSoup' libraries. Test it with the URL: 'https://example.com'.\n"
   ]
  },
  {
   "cell_type": "code",
   "execution_count": 1,
   "metadata": {},
   "outputs": [
    {
     "name": "stdout",
     "output_type": "stream",
     "text": [
      "Webpage Title: Example Domain\n"
     ]
    }
   ],
   "source": [
    "import requests\n",
    "from bs4 import BeautifulSoup\n",
    "\n",
    "def fetch_webpage_title(url):\n",
    "    \"\"\"\n",
    "    Fetches and prints the title of a webpage.\n",
    "    \n",
    "    Args:\n",
    "        url (str): The URL of the webpage to fetch.\n",
    "        \n",
    "    Returns:\n",
    "        str: The title of the webpage, or an error message if unavailable.\n",
    "    \"\"\"\n",
    "    try:\n",
    "        # Send a GET request to the webpage\n",
    "        response = requests.get(url)\n",
    "        response.raise_for_status()  # Raise an exception for HTTP errors\n",
    "\n",
    "        # Parse the webpage content using BeautifulSoup\n",
    "        soup = BeautifulSoup(response.text, 'html.parser')\n",
    "\n",
    "        # Extract the title of the webpage\n",
    "        title = soup.title.string if soup.title else \"No title found\"\n",
    "        return title\n",
    "\n",
    "    except requests.exceptions.RequestException as e:\n",
    "        return f\"Error fetching webpage: {e}\"\n",
    "\n",
    "# Test the function\n",
    "url = 'https://example.com'\n",
    "webpage_title = fetch_webpage_title(url)\n",
    "print(f\"Webpage Title: {webpage_title}\")\n"
   ]
  },
  {
   "cell_type": "code",
   "execution_count": null,
   "metadata": {},
   "outputs": [],
   "source": []
  }
 ],
 "metadata": {
  "kernelspec": {
   "display_name": "base",
   "language": "python",
   "name": "python3"
  },
  "language_info": {
   "codemirror_mode": {
    "name": "ipython",
    "version": 3
   },
   "file_extension": ".py",
   "mimetype": "text/x-python",
   "name": "python",
   "nbconvert_exporter": "python",
   "pygments_lexer": "ipython3",
   "version": "3.12.7"
  }
 },
 "nbformat": 4,
 "nbformat_minor": 2
}
