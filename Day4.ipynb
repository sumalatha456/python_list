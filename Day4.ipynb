{
  "cells": [
    {
      "cell_type": "markdown",
      "metadata": {
        "colab_type": "text",
        "id": "view-in-github"
      },
      "source": [
        "<a href=\"https://colab.research.google.com/github/sumalatha456/python_list/blob/main/Day4.ipynb\" target=\"_parent\"><img src=\"https://colab.research.google.com/assets/colab-badge.svg\" alt=\"Open In Colab\"/></a>"
      ]
    },
    {
      "cell_type": "code",
      "execution_count": null,
      "metadata": {},
      "outputs": [],
      "source": []
    },
    {
      "cell_type": "code",
      "execution_count": 1,
      "metadata": {
        "colab": {
          "base_uri": "https://localhost:8080/"
        },
        "id": "km7hJow_BSvm",
        "outputId": "41ad3528-6988-4eec-bf47-3b98b2d3032f"
      },
      "outputs": [
        {
          "name": "stdout",
          "output_type": "stream",
          "text": [
            "Enter a positive integer: 7\n",
            "Sum of all even numbers between 1 and 7 is: 12\n"
          ]
        }
      ],
      "source": [
        "#Write a Python program to calculate the sum of all even numbers between 1 and a given positive integer n\n",
        "def sum_of_even_numbers(n):\n",
        "    total_sum = 0\n",
        "    for num in range(1, n + 1):\n",
        "       if num % 2 == 0:\n",
        "        total_sum += num\n",
        "\n",
        "    return total_sum\n",
        "n = int(input(\"Enter a positive integer: \"))\n",
        "print(\"Sum of all even numbers between 1 and\", n, \"is:\", sum_of_even_numbers(n))\n"
      ]
    }
  ],
  "metadata": {
    "colab": {
      "authorship_tag": "ABX9TyPzA05aFWmcqM42+TtBq9XR",
      "include_colab_link": true,
      "provenance": []
    },
    "kernelspec": {
      "display_name": "Python 3",
      "name": "python3"
    },
    "language_info": {
      "name": "python"
    }
  },
  "nbformat": 4,
  "nbformat_minor": 0
}
