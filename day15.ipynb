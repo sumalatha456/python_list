{
 "cells": [
  {
   "cell_type": "markdown",
   "metadata": {},
   "source": [
    "Examples on Regular Expressions - Coding Assignment\n",
    "Write a Python function using regular expressions to extract all email addresses from a given string. Test it with the input: 'Contact us at support@example.com and sales@example.org.'\n"
   ]
  },
  {
   "cell_type": "code",
   "execution_count": 1,
   "metadata": {},
   "outputs": [
    {
     "name": "stdout",
     "output_type": "stream",
     "text": [
      "['support@example.com', 'sales@example.org']\n"
     ]
    }
   ],
   "source": [
    "import re\n",
    "\n",
    "def extract_emails(input_string):\n",
    "    # Define the regular expression pattern for matching email addresses\n",
    "    email_pattern = r'[a-zA-Z0-9._%+-]+@[a-zA-Z0-9.-]+\\.[a-zA-Z]{2,}'\n",
    "    \n",
    "    # Use re.findall to extract all email addresses matching the pattern\n",
    "    email_addresses = re.findall(email_pattern, input_string)\n",
    "    \n",
    "    return email_addresses\n",
    "\n",
    "# Test the function with the provided input\n",
    "test_string = 'Contact us at support@example.com and sales@example.org.'\n",
    "extracted_emails = extract_emails(test_string)\n",
    "print(extracted_emails)\n"
   ]
  }
 ],
 "metadata": {
  "kernelspec": {
   "display_name": "base",
   "language": "python",
   "name": "python3"
  },
  "language_info": {
   "codemirror_mode": {
    "name": "ipython",
    "version": 3
   },
   "file_extension": ".py",
   "mimetype": "text/x-python",
   "name": "python",
   "nbconvert_exporter": "python",
   "pygments_lexer": "ipython3",
   "version": "3.12.7"
  }
 },
 "nbformat": 4,
 "nbformat_minor": 2
}
