{
 "cells": [
  {
   "cell_type": "markdown",
   "metadata": {},
   "source": [
    "Write a Python program to calculate the cosine similarity between two strings using the Scikit-learn library. You can use the 'TfidfVectorizer' class to transform the text into vectors.\n"
   ]
  },
  {
   "cell_type": "code",
   "execution_count": 1,
   "metadata": {},
   "outputs": [
    {
     "name": "stdout",
     "output_type": "stream",
     "text": [
      "The cosine similarity between the two strings is: 0.52\n"
     ]
    }
   ],
   "source": [
    "from sklearn.feature_extraction.text import TfidfVectorizer\n",
    "from sklearn.metrics.pairwise import cosine_similarity\n",
    "\n",
    "def calculate_cosine_similarity(string1, string2):\n",
    "    # Create a TfidfVectorizer instance\n",
    "    vectorizer = TfidfVectorizer()\n",
    "    \n",
    "    # Transform the strings into TF-IDF vectors\n",
    "    tfidf_matrix = vectorizer.fit_transform([string1, string2])\n",
    "    \n",
    "    # Calculate the cosine similarity\n",
    "    similarity = cosine_similarity(tfidf_matrix[0:1], tfidf_matrix[1:2])\n",
    "    \n",
    "    return similarity[0][0]\n",
    "\n",
    "# Main function\n",
    "def main():\n",
    "    # Input strings\n",
    "    string1 = \"I love programming and data science.\"\n",
    "    string2 = \"Data science and programming are my passion.\"\n",
    "    \n",
    "    # Calculate cosine similarity\n",
    "    similarity = calculate_cosine_similarity(string1, string2)\n",
    "    \n",
    "    print(f\"The cosine similarity between the two strings is: {similarity:.2f}\")\n",
    "\n",
    "# Run the program\n",
    "if __name__ == \"__main__\":\n",
    "    main()\n"
   ]
  },
  {
   "cell_type": "code",
   "execution_count": null,
   "metadata": {},
   "outputs": [],
   "source": []
  }
 ],
 "metadata": {
  "kernelspec": {
   "display_name": "base",
   "language": "python",
   "name": "python3"
  },
  "language_info": {
   "codemirror_mode": {
    "name": "ipython",
    "version": 3
   },
   "file_extension": ".py",
   "mimetype": "text/x-python",
   "name": "python",
   "nbconvert_exporter": "python",
   "pygments_lexer": "ipython3",
   "version": "3.12.7"
  }
 },
 "nbformat": 4,
 "nbformat_minor": 2
}
