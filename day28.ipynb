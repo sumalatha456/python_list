{
 "cells": [
  {
   "cell_type": "markdown",
   "metadata": {},
   "source": [
    "Coding Exercise: Named Entity Recognition (NER)\n",
    "Write a Python program to perform Named Entity Recognition (NER) on a given text using SpaCy. Print the entities and their types.\n",
    "\n"
   ]
  },
  {
   "cell_type": "code",
   "execution_count": 1,
   "metadata": {},
   "outputs": [
    {
     "name": "stdout",
     "output_type": "stream",
     "text": [
      "Named Entities and their Types:\n",
      "Apple: ORG\n",
      "UK: GPE\n",
      "$1 billion: MONEY\n",
      "Elon Musk: PERSON\n",
      "2002: DATE\n",
      "California: GPE\n"
     ]
    }
   ],
   "source": [
    "import spacy\n",
    "\n",
    "def perform_ner(text):\n",
    "    # Load the SpaCy English language model\n",
    "    nlp = spacy.load(\"en_core_web_sm\")\n",
    "    \n",
    "    # Process the text\n",
    "    doc = nlp(text)\n",
    "    \n",
    "    # Extract and print named entities and their types\n",
    "    print(\"Named Entities and their Types:\")\n",
    "    for ent in doc.ents:\n",
    "        print(f\"{ent.text}: {ent.label_}\")\n",
    "\n",
    "# Main function\n",
    "def main():\n",
    "    # Input text\n",
    "    text = \"\"\"Apple is looking at buying a UK-based startup for $1 billion.\n",
    "    Elon Musk founded SpaceX in 2002 in California.\"\"\"\n",
    "    \n",
    "    # Perform Named Entity Recognition\n",
    "    perform_ner(text)\n",
    "\n",
    "# Run the program\n",
    "if __name__ == \"__main__\":\n",
    "    main()\n"
   ]
  }
 ],
 "metadata": {
  "kernelspec": {
   "display_name": "base",
   "language": "python",
   "name": "python3"
  },
  "language_info": {
   "codemirror_mode": {
    "name": "ipython",
    "version": 3
   },
   "file_extension": ".py",
   "mimetype": "text/x-python",
   "name": "python",
   "nbconvert_exporter": "python",
   "pygments_lexer": "ipython3",
   "version": "3.12.7"
  }
 },
 "nbformat": 4,
 "nbformat_minor": 2
}
