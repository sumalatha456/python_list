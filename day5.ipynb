{
 "cells": [
  {
   "cell_type": "code",
   "execution_count": 1,
   "metadata": {},
   "outputs": [
    {
     "name": "stdout",
     "output_type": "stream",
     "text": [
      "This: 2\n",
      "is: 2\n",
      "a: 2\n",
      "sample: 1\n",
      "text: 2\n",
      "with: 1\n",
      "several: 1\n",
      "words.: 1\n",
      "just: 1\n",
      "sample.: 1\n"
     ]
    }
   ],
   "source": [
    "def word_frequency(text):\n",
    "    # Split the text into words\n",
    "    words = text.split()\n",
    "\n",
    "    # Create an empty dictionary to store the word frequencies\n",
    "    frequency = {}\n",
    "\n",
    "    # Iterate through the words and count their frequencies\n",
    "    for word in words:\n",
    "        if word in frequency:\n",
    "            frequency[word] += 1\n",
    "        else:\n",
    "            frequency[word] = 1\n",
    "\n",
    "    \n",
    "    for word, count in frequency.items():\n",
    "        print(f\"{word}: {count}\")\n",
    "\n",
    "text = \"This is a sample text with several words. This text is just a sample.\"\n",
    "word_frequency(text)\n"
   ]
  }
 ],
 "metadata": {
  "kernelspec": {
   "display_name": "base",
   "language": "python",
   "name": "python3"
  },
  "language_info": {
   "codemirror_mode": {
    "name": "ipython",
    "version": 3
   },
   "file_extension": ".py",
   "mimetype": "text/x-python",
   "name": "python",
   "nbconvert_exporter": "python",
   "pygments_lexer": "ipython3",
   "version": "3.12.7"
  }
 },
 "nbformat": 4,
 "nbformat_minor": 2
}
