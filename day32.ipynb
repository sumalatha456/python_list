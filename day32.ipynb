{
 "cells": [
  {
   "cell_type": "markdown",
   "metadata": {},
   "source": [
    "Coding Exercise: Exercises Covering All Concepts\n",
    "Write a Python program to load a text file, perform tokenization, calculate the term frequency (TF) of each token, and display the top 5 most frequent tokens.\n"
   ]
  },
  {
   "cell_type": "code",
   "execution_count": 2,
   "metadata": {},
   "outputs": [
    {
     "name": "stdout",
     "output_type": "stream",
     "text": [
      "Top 5 most frequent tokens:\n",
      "this: 3\n",
      "is: 3\n",
      "text: 3\n",
      "example: 2\n",
      "words: 2\n"
     ]
    }
   ],
   "source": [
    "import re\n",
    "from collections import Counter\n",
    "\n",
    "def load_text(file_path=None):\n",
    "    # Example text if no file path is provided\n",
    "    example_text = \"\"\"\n",
    "    This is an example text. It includes several words. Some words repeat more than once. \n",
    "    This is done to show how term frequency works in text analysis. \n",
    "    This example text is simple yet useful for testing.\n",
    "    \"\"\"\n",
    "    if file_path:\n",
    "        with open(file_path, 'r') as file:\n",
    "            text = file.read()\n",
    "    else:\n",
    "        text = example_text\n",
    "    return text\n",
    "\n",
    "def tokenize(text):\n",
    "    tokens = re.findall(r'\\b\\w+\\b', text.lower())\n",
    "    return tokens\n",
    "\n",
    "def calculate_term_frequency(tokens):\n",
    "    term_freq = Counter(tokens)\n",
    "    return term_freq\n",
    "\n",
    "def get_top_n_terms(term_freq, n):\n",
    "    top_n_terms = term_freq.most_common(n)\n",
    "    return top_n_terms\n",
    "\n",
    "# Example usage\n",
    "file_path = None  # Set to your file path if available\n",
    "text = load_text(file_path)\n",
    "tokens = tokenize(text)\n",
    "term_freq = calculate_term_frequency(tokens)\n",
    "top_5_terms = get_top_n_terms(term_freq, 5)\n",
    "\n",
    "print(\"Top 5 most frequent tokens:\")\n",
    "for token, freq in top_5_terms:\n",
    "    print(f\"{token}: {freq}\")\n",
    "\n"
   ]
  }
 ],
 "metadata": {
  "kernelspec": {
   "display_name": "base",
   "language": "python",
   "name": "python3"
  },
  "language_info": {
   "codemirror_mode": {
    "name": "ipython",
    "version": 3
   },
   "file_extension": ".py",
   "mimetype": "text/x-python",
   "name": "python",
   "nbconvert_exporter": "python",
   "pygments_lexer": "ipython3",
   "version": "3.12.7"
  }
 },
 "nbformat": 4,
 "nbformat_minor": 2
}
